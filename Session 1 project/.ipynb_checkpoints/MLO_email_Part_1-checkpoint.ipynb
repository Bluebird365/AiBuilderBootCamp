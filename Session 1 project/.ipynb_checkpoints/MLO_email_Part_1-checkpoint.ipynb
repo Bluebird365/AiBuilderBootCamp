{
 "cells": [
  {
   "cell_type": "markdown",
   "metadata": {},
   "source": [
    "# Project "
   ]
  },
  {
   "cell_type": "markdown",
   "metadata": {},
   "source": [
    "#### 1 - Automate the process of checking mortgage rates for the customers (borrowers) and send email updates. \n",
    "#### 2 - Auto-pull mortgage rate update from accessible website(s)\n",
    "#### 3 - Create a table comparing the overall savings for different rates and terms \n"
   ]
  },
  {
   "cell_type": "markdown",
   "metadata": {},
   "source": [
    "### Session 1 : Project to create a broadcast template with the framework in place"
   ]
  },
  {
   "cell_type": "markdown",
   "metadata": {},
   "source": [
    "### Import Packages"
   ]
  },
  {
   "cell_type": "code",
   "execution_count": 2,
   "metadata": {},
   "outputs": [],
   "source": [
    "import pandas as pd \n",
    "import smtplib\n",
    "\n",
    "from email.mime.multipart import MIMEMultipart\n",
    "from email.mime.text import MIMEText\n",
    "#from top_secret import app_password\n",
    "from datetime import datetime"
   ]
  },
  {
   "cell_type": "markdown",
   "metadata": {},
   "source": [
    "### Define Variables"
   ]
  },
  {
   "cell_type": "code",
   "execution_count": 3,
   "metadata": {},
   "outputs": [],
   "source": [
    "content_name = \"Mortage Rates\" \n",
    "today_date = datetime.now().strftime(\"%m-%d-%Y\")"
   ]
  },
  {
   "cell_type": "markdown",
   "metadata": {},
   "source": [
    "### Customer Data "
   ]
  },
  {
   "cell_type": "code",
   "execution_count": 4,
   "metadata": {},
   "outputs": [],
   "source": [
    "filename = \"customer_data_synthetic.csv\"\n",
    "df = pd.read_csv(filename) #Customer Data \n",
    "recipients_list = []\n",
    "\n",
    "for i, row in df.iterrows():\n",
    "    name = row['First Name']\n",
    "    email = row['Email Address']\n",
    "    recipients_list.append((name, email))\n",
    "#recipients_list"
   ]
  },
  {
   "cell_type": "markdown",
   "metadata": {},
   "source": [
    "### Mortage Rates from Website"
   ]
  },
  {
   "cell_type": "code",
   "execution_count": 5,
   "metadata": {},
   "outputs": [
    {
     "name": "stdout",
     "output_type": "stream",
     "text": [
      "Error fetching data: Expecting value: line 1 column 1 (char 0)\n",
      "{'30_year_rate': None, '15_year_rate': None, 'ARM_5/1_rate': None}\n"
     ]
    }
   ],
   "source": [
    "# create a dictionary that is updated based on the date and time the mortgage rates are pulled from external source \n",
    "# Session 2\n",
    "import requests\n",
    "\n",
    "# Define the dictionary with initial placeholders\n",
    "mortgage_rates = {\n",
    "    \"30_year_rate\": None,  \n",
    "    \"15_year_rate\": None,    \n",
    "    \"ARM_5/1_rate\": None \n",
    "}\n",
    "\n",
    "# Sample API endpoints - replace these with actual APIs\n",
    "mortgage_30_rate_api = \"https://www.mortgagenewsdaily.com/mortgage-rates/30-year-fixed\"\n",
    "mortgage_15_rate_api = \"https://www.mortgagenewsdaily.com/mortgage-rates/15-year-fixed\"\n",
    "mortgage_ARM_5_1_api = \"https://www.mortgagenewsdaily.com/mortgage-rates/5-1-arm\"\n",
    "\n",
    "# Fetch data from APIs and update the dictionary\n",
    "try:\n",
    "    # Get 30 year rate\n",
    "   mortgage_30_rate_api = requests.get(mortgage_30_rate_api)\n",
    "   if mortgage_30_rate_api.status_code == 200:\n",
    "       data[\"30_year_rate\"] = mortgage_30_rate_api.json().get(\"rate\")  # Example key from API response\n",
    "\n",
    "    # Get 15 year rate\n",
    "   mortgage_15_rate_api = requests.get(mortgage_15_rate_api)\n",
    "   if mortgage_15_rate_api.status_code == 200:\n",
    "       data[\"15_year_rate\"] = mortgage_15_rate_api.json().get(\"rate\")  # Example key from API response\n",
    "\n",
    "    # Get ARM rate\n",
    "   mortgage_ARM_5_1_api = requests.get(mortgage_ARM_5_1_api)\n",
    "   if mortgage_ARM_5_1_api.status_code == 200:\n",
    "       data[\"ARM_5/1_rate\"] = smortgage_ARM_5_1_api.json().get(\"rate\")  # Example key from API response\n",
    "\n",
    "except requests.exceptions.RequestException as e:\n",
    "    print(\"Error fetching data:\", e)\n",
    "\n",
    "# Print the updated dictionary\n",
    "print(mortgage_rates)"
   ]
  },
  {
   "cell_type": "markdown",
   "metadata": {},
   "source": [
    "### Email Message"
   ]
  },
  {
   "cell_type": "code",
   "execution_count": 6,
   "metadata": {},
   "outputs": [],
   "source": [
    "# construct message template\n",
    "subject = f\"Latest {content_name} & Tips to Help You Save on Your Home Journey! 🏠\""
   ]
  },
  {
   "cell_type": "code",
   "execution_count": 7,
   "metadata": {},
   "outputs": [],
   "source": [
    "body = lambda First_Name : f\"\"\"Dear {First_Name},\n",
    "\n",
    "I hope this message finds you well! As a valued part of our community, I'm excited to share the latest mortgage rate updates with you. My goal is to help you achieve your American dream of homeownership while saving as much as possible along the way.\n",
    "\n",
    "**Current Mortgage Rate Highlights:**  \n",
    "- **30-Year Fixed:** {mortgage_rates['30_year_rate']}% \n",
    "- **15-Year Fixed:** {mortgage_rates['15_year_rate']}%\n",
    "- **Adjustable Rate Mortgage (ARM):** Starting at {mortgage_rates['ARM_5/1_rate']}% \n",
    "\n",
    "Whether you're planning to purchase your first home or considering a refinance, this update is designed to give you valuable insights and help you find the best possible financing options.\n",
    "\n",
    "**Why Choose Us?**  \n",
    "I'm committed to helping you not only secure a home but also keep your long-term financial goals in focus. With access to a variety of mortgage products and tailored solutions, we’re here to find the best match for your unique situation, aiming to save you $$$ every step of the way!\n",
    "\n",
    "**Thinking of Making a Move Soon?**  \n",
    "Let's connect! I’d be happy to discuss your goals and provide a customized rate quote based on your needs.  \n",
    "\n",
    "Feel free to reply to this email or call me directly at 123-456-7890\n",
    "\n",
    "Looking forward to helping you take the next step toward your American dream!\n",
    "\n",
    "Best regards,  \n",
    "[Add Signature Block]\n",
    "\n",
    "**Disclaimer:**  \n",
    "Mortgage rates are subject to change based on market conditions, borrower qualifications, loan type, property location, and other factors. The rates provided are for informational purposes only and do not constitute an offer or guarantee of a specific rate or loan product. \n",
    "All rates and loan approvals are subject to underwriting guidelines and credit approval.\"\"\""
   ]
  },
  {
   "cell_type": "code",
   "execution_count": 8,
   "metadata": {},
   "outputs": [
    {
     "name": "stdout",
     "output_type": "stream",
     "text": [
      "Latest Mortage Rates & Tips to Help You Save on Your Home Journey! 🏠\n",
      "\n",
      "Dear Customer,\n",
      "\n",
      "I hope this message finds you well! As a valued part of our community, I'm excited to share the latest mortgage rate updates with you. My goal is to help you achieve your American dream of homeownership while saving as much as possible along the way.\n",
      "\n",
      "**Current Mortgage Rate Highlights:**  \n",
      "- **30-Year Fixed:** None% \n",
      "- **15-Year Fixed:** None%\n",
      "- **Adjustable Rate Mortgage (ARM):** Starting at None% \n",
      "\n",
      "Whether you're planning to purchase your first home or considering a refinance, this update is designed to give you valuable insights and help you find the best possible financing options.\n",
      "\n",
      "**Why Choose Us?**  \n",
      "I'm committed to helping you not only secure a home but also keep your long-term financial goals in focus. With access to a variety of mortgage products and tailored solutions, we’re here to find the best match for your unique situation, aiming to save you $$$ every step of the way!\n",
      "\n",
      "**Thinking of Making a Move Soon?**  \n",
      "Let's connect! I’d be happy to discuss your goals and provide a customized rate quote based on your needs.  \n",
      "\n",
      "Feel free to reply to this email or call me directly at 123-456-7890\n",
      "\n",
      "Looking forward to helping you take the next step toward your American dream!\n",
      "\n",
      "Best regards,  \n",
      "[Add Signature Block]\n",
      "\n",
      "**Disclaimer:**  \n",
      "Mortgage rates are subject to change based on market conditions, borrower qualifications, loan type, property location, and other factors. The rates provided are for informational purposes only and do not constitute an offer or guarantee of a specific rate or loan product. \n",
      "All rates and loan approvals are subject to underwriting guidelines and credit approval.\n"
     ]
    }
   ],
   "source": [
    "print(f\"{subject}\\n\") \n",
    "print(body(\"Customer\"))"
   ]
  },
  {
   "cell_type": "markdown",
   "metadata": {},
   "source": [
    "## Send Email"
   ]
  },
  {
   "cell_type": "code",
   "execution_count": 9,
   "metadata": {},
   "outputs": [
    {
     "ename": "NameError",
     "evalue": "name 'app_password' is not defined",
     "output_type": "error",
     "traceback": [
      "\u001b[0;31m---------------------------------------------------------------------------\u001b[0m",
      "\u001b[0;31mNameError\u001b[0m                                 Traceback (most recent call last)",
      "Cell \u001b[0;32mIn[9], line 3\u001b[0m\n\u001b[1;32m      1\u001b[0m \u001b[38;5;66;03m# Define your email credentials and recipient\u001b[39;00m\n\u001b[1;32m      2\u001b[0m sender_email \u001b[38;5;241m=\u001b[39m \u001b[38;5;124m\"\u001b[39m\u001b[38;5;124msender_email\u001b[39m\u001b[38;5;124m\"\u001b[39m\n\u001b[0;32m----> 3\u001b[0m password \u001b[38;5;241m=\u001b[39m \u001b[43mapp_password\u001b[49m \n\u001b[1;32m      5\u001b[0m \u001b[38;5;66;03m# Connect to the server\u001b[39;00m\n\u001b[1;32m      6\u001b[0m \u001b[38;5;28;01mwith\u001b[39;00m smtplib\u001b[38;5;241m.\u001b[39mSMTP(\u001b[38;5;124m\"\u001b[39m\u001b[38;5;124msmtp.gmail.com\u001b[39m\u001b[38;5;124m\"\u001b[39m, \u001b[38;5;241m587\u001b[39m) \u001b[38;5;28;01mas\u001b[39;00m server:\n",
      "\u001b[0;31mNameError\u001b[0m: name 'app_password' is not defined"
     ]
    }
   ],
   "source": [
    "# Define your email credentials and recipient\n",
    "sender_email = \"sender_email\"\n",
    "password = app_password \n",
    "\n",
    "# Connect to the server\n",
    "with smtplib.SMTP(\"smtp.gmail.com\", 587) as server:\n",
    "    server.starttls()  # Start TLS encryption\n",
    "    server.login(sender_email, password)  # Log into email account\n",
    "\n",
    "    # Send the email to each recipient with personalized content\n",
    "    for name, email in recipients_list:\n",
    "        # Set up the MIME\n",
    "        message = MIMEMultipart()\n",
    "        message[\"From\"] = sender_email\n",
    "        message[\"To\"] = email\n",
    "        message[\"Subject\"] = subject\n",
    "        \n",
    "        # Email body with personalization\n",
    "        personalized_body = body(name)\n",
    "        message.attach(MIMEText(personalized_body, \"plain\"))\n",
    "\n",
    "        # Send the email\n",
    "        server.sendmail(sender_email, email, message.as_string())\n",
    "        print(f\"Email sent successfully to {name} at {email}!\")"
   ]
  },
  {
   "cell_type": "markdown",
   "metadata": {},
   "source": [
    "Note: to create app password for Gmail follow the following steps.\n",
    "\n",
    "Code Resource: [here](https://github.com/ShawhinT/AI-Builders-Bootcamp-1)\n",
    "1. Navigate to [Google Account](https://myaccount.google.com/)\n",
    "3. Click on \"2-Step Verification\" under \"How you sign in to Google\"\n",
    "4. Click on right arrow under \"App passwords\"\n",
    "5. Type in new App name and hit \"Create\"\n",
    "\n",
    "Additional support [here](https://support.google.com/mail/answer/185833?hl=en)\n",
    "\n"
   ]
  },
  {
   "cell_type": "code",
   "execution_count": null,
   "metadata": {},
   "outputs": [],
   "source": []
  }
 ],
 "metadata": {
  "kernelspec": {
   "display_name": "Python 3 (ipykernel)",
   "language": "python",
   "name": "python3"
  },
  "language_info": {
   "codemirror_mode": {
    "name": "ipython",
    "version": 3
   },
   "file_extension": ".py",
   "mimetype": "text/x-python",
   "name": "python",
   "nbconvert_exporter": "python",
   "pygments_lexer": "ipython3",
   "version": "3.13.0"
  }
 },
 "nbformat": 4,
 "nbformat_minor": 4
}
